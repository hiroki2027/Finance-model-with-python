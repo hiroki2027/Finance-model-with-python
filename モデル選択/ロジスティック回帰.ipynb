{
 "cells": [
  {
   "cell_type": "markdown",
   "metadata": {},
   "source": [
    "### ロジスティック回帰モデル\n",
    "・ロジスティック回帰モデルは2値分類でよく使われる線形モデルの一種で、「ある事象が起こる確率」を予測。数学的には、シグモイド関数を使って、線型結合を確率に変化する\n",
    "\n",
    "#### 数学的定義\n",
    "1,線型結合の計算　　\n",
    "\n",
    "入力の特徴量ベクトルx = (x_1, x_2,..., x_n)に対して,　　\n",
    "\n",
    "重みベクトル w = (w_1, w_2,..., w_n)とバイアス項bを用いてスコアzを計算する \n",
    "$$\n",
    "z = w₁ x₁ + w₂ x₂ + ... + wₙ xₙ + b\n",
    "$$\n",
    "\n",
    "2,シグモイド関数で確率に変換　　\n",
    "\n",
    "・スコアzを0 ~ 1の確率に変換するには、以下の「シグモイド関数」を使う\n",
    "\n",
    "$$\n",
    "sigmoid(z) = \\frac{1}{1 + e^{-z}}\n",
    "$$\n",
    "\n",
    "この出力はクラス１（株価が上がる）である確率を意味する\n",
    "\n",
    "3,ロジスティック書きの目的関数　　\n",
    "\n",
    "$ ・実際の値y（0,1）と予測値\\hat{y} (0 ~ 1) との誤差を以下のロジスティック損失で測定する $\n",
    "$$\n",
    "loss = -[ y log(ŷ) + (1 - y) log(1 - ŷ) ]\n",
    "$$\n",
    "複数のデータに対して平均を取ったものが最終的な損失\n",
    "\n",
    "\n",
    "\n",
    "\n",
    "\n",
    "\n"
   ]
  },
  {
   "cell_type": "code",
   "execution_count": null,
   "metadata": {},
   "outputs": [],
   "source": [
    "## 一般的な実装\n",
    "### sklearnを用いた実装\n",
    "from sklearn.linear_model import LogisticRegression\n",
    "from sklearn.model_selection import train_test_split\n",
    "from sklearn.metrics import accuracy_score\n",
    "\n",
    "# 特徴量 X, ラベル y （0または1）を用意\n",
    "X_train, X_test, y_train, y_test = train_test_split(X, y, test_size=0.2, shuffle=False)\n",
    "\n",
    "# ロジスティック回帰モデルを作成\n",
    "model = LogisticRegression()\n",
    "model.fit(X_train, y_train)\n",
    "\n",
    "# テストデータで予測\n",
    "y_pred = model.predict(X_test)\n",
    "\n",
    "# 正解率を出力\n",
    "print(\"Accuracy:\", accuracy_score(y_test, y_pred))"
   ]
  },
  {
   "cell_type": "markdown",
   "metadata": {},
   "source": []
  }
 ],
 "metadata": {
  "kernelspec": {
   "display_name": "Finance",
   "language": "python",
   "name": "python3"
  },
  "language_info": {
   "name": "python",
   "version": "3.12.9"
  }
 },
 "nbformat": 4,
 "nbformat_minor": 2
}
