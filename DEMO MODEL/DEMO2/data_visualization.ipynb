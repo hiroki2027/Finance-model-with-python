{
 "cells": [
  {
   "cell_type": "markdown",
   "metadata": {},
   "source": [
    "import numpy as np\n",
    "import pandas as pd\n",
    "import matplotlib.pyplot as plt\n",
    "import matplotlib as mpl\n",
    "\n",
    "\n",
    "file_path = \"/Users/kondousatoshishi/Downloads/金融モデル/data/date_RSI_momentum/4063.T_month_end_with_RSI_momentum.csv\"\n",
    "df = pd.read_csv(file_path, index_col=0, parse_dates=True)\n",
    "print(df.head())\n",
    "print(df.info())\n",
    "\n",
    "df.plot(figsize=(10, 12), subplots=True)\n",
    "plt.show()\n",
    "\n"
   ]
  },
  {
   "cell_type": "markdown",
   "metadata": {},
   "source": [
    "### 時間の経過の伴う変化\n",
    "遠くの統計解析手法は絶対値ではなんく時間の経過に伴う変化に基づいている。時系列の時間の計兄伴う変化の計算には、差分、変化率、対数収益率などのを用いる。しかし、統計学の視点では、絶対変化は時系列データそのもののスケールに依存するため、最適ではない。価格変化率の方が好まれる。\n"
   ]
  },
  {
   "cell_type": "code",
   "execution_count": null,
   "metadata": {},
   "outputs": [],
   "source": [
    "print(df.diff().head())"
   ]
  }
 ],
 "metadata": {
  "kernelspec": {
   "display_name": "Finance",
   "language": "python",
   "name": "python3"
  },
  "language_info": {
   "name": "python",
   "version": "3.12.9"
  }
 },
 "nbformat": 4,
 "nbformat_minor": 2
}
