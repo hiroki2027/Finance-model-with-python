{
 "cells": [
  {
   "cell_type": "markdown",
   "metadata": {},
   "source": [
    "### DEMO3\n",
    "\n",
    "・demo3では、demo２で作ったRSI, momentum などの指標により細かい条件をつけていく\n",
    "・データパイプライン汎用化\n"
   ]
  }
 ],
 "metadata": {
  "language_info": {
   "name": "python"
  }
 },
 "nbformat": 4,
 "nbformat_minor": 2
}
