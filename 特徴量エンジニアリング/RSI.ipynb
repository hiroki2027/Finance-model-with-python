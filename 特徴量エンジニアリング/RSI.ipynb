{
 "cells": [
  {
   "cell_type": "markdown",
   "metadata": {},
   "source": [
    "### RSIの数学的定義\n",
    "・RSIは価格の「上昇の強さ」と「下落の強さ」の比率に基づくオシレーター系テクニカル指標。　　　　\n",
    "・値は 0 ~ 100の範囲に収まり、一般的には70以上は「買われすぎ」、30以下は「売られすぎ」と解釈される　　\n",
    "・RSIでは「平均的な上昇幅」「平均的な下落幅」を使ってトレンドの強さを測る\n"
   ]
  },
  {
   "cell_type": "markdown",
   "metadata": {},
   "source": [
    "$$\n",
    "\n",
    "RSI = 100\\quad *\\frac{RS}{1 + RS}　　\n",
    "$$\n",
    "ここで、　　\n",
    "$$\n",
    "RS = \\frac{Average Gain}{Average Loss}　　\n",
    "\n",
    "　　\n",
    "* AgerageGain = \\frac{1}{n}\\Sigma\n",
    " Gain\\quad i　　\n",
    "* AgerageLoss = \\frac{1}{n}\\Sigma i\n",
    "\n",
    "$$\n"
   ]
  },
  {
   "cell_type": "code",
   "execution_count": null,
   "metadata": {},
   "outputs": [],
   "source": [
    "## RSI の一般的な実装例（14日）\n",
    "import pandas as pd\n",
    "\n",
    "def compute_rsi(df, colum='Close', period=14):\n",
    "    # 差分を求めていく\n",
    "    delta = df[column].diff()\n",
    "    \n",
    "    # 上昇と下落を分離\n",
    "    gain = delta.clip(lower=0)\n",
    "    loss = -delta.clip(upper=0)\n",
    "    \n",
    "    # 初期の単純平均\n",
    "    avg_gain = gain.rolling(window=14, min_periods=14).mean()\n",
    "    avg_loss = loss.rolling(window=14, min_periods=14).mean()\n",
    "    \n",
    "    # RS と RSI の計算\n",
    "    rs = avg_gain / avg_loss\n",
    "    rsi = 100 * (rs / (rs+1))\n",
    "    \n",
    "    return rsi\n"
   ]
  }
 ],
 "metadata": {
  "kernelspec": {
   "display_name": "Finance",
   "language": "python",
   "name": "python3"
  },
  "language_info": {
   "name": "python",
   "version": "3.12.9"
  }
 },
 "nbformat": 4,
 "nbformat_minor": 2
}
