{
 "cells": [
  {
   "cell_type": "markdown",
   "metadata": {},
   "source": [
    "### 週次高安レンジ比率\n",
    "#### 数学的定義\n",
    "ある週の高値と安値の比率：\n",
    "$$\n",
    "RnageRaitoweek = \\frac{{P_{high,week} - P_{low, week}}}{P_{open, week}}\n",
    "$$\n",
    "もしくは単純なスケールとして\n",
    "$$\n",
    "Raito = \\frac{P_{high} - P_{low}}{P_{Close}}\n",
    "\n",
    "$$\n",
    "\n"
   ]
  },
  {
   "cell_type": "markdown",
   "metadata": {},
   "source": []
  },
  {
   "cell_type": "code",
   "execution_count": null,
   "metadata": {},
   "outputs": [],
   "source": [
    "## pythonでの実装例\n",
    "### 週ごとの高値、安値、終値、始値\n",
    "Weekly = df[[\"Open\", \"High\", \"Low\", \"Close\"]].resample(W).agg({\n",
    "    \"Open\": \"first\",\n",
    "    \"Close\": \"max\",\n",
    "    \"Low\": \"min\",\n",
    "    \"High\": \"last\"\n",
    "})\n",
    "\n",
    "Weekly[\"range_raito\"] = (Weekly[\"Hige\"] - Weekly[\"Low\"]) / Weekly[\"Open\"]"
   ]
  }
 ],
 "metadata": {
  "kernelspec": {
   "display_name": "Finance",
   "language": "python",
   "name": "python3"
  },
  "language_info": {
   "name": "python",
   "version": "3.12.9"
  }
 },
 "nbformat": 4,
 "nbformat_minor": 2
}
