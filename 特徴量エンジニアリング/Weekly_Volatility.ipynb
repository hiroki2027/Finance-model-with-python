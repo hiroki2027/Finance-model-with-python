{
 "cells": [
  {
   "cell_type": "markdown",
   "metadata": {},
   "source": [
    "### 週次ボラティリティ\n",
    "#### 数学的定義\n",
    "・週次ボラティリティは、ある週における日次リターンの標準偏差\n",
    "$$\n",
    "\\sigma_{week} = \\sqrt{\\frac{1}{n-1}\\Sigma(r_i-\\bar{r})^2}\n",
    "$$\n",
    "$$\n",
    " ・r_i = \\log{\\frac{P_i}{P_{i-1}}}: i日目の対数リターン　　\n",
    "\n",
    "・ \\bar{r}: その週の平均リターン　　\n",
    "\n",
    "・ n: 週内の営業日数(通常5)\n",
    "$$\n"
   ]
  },
  {
   "cell_type": "code",
   "execution_count": null,
   "metadata": {},
   "outputs": [],
   "source": [
    "# pythonでの実装れい\n",
    "# 対数リターンを計算\n",
    "import numpy as np\n",
    "df[\"log_ret\"] = np.log(df[\"Close\"] / df[\"Close\"].shift(1))\n",
    "\n",
    "# 週次にリサンプリングして、週内の標準偏差をとる\n",
    "df[\"Weekly_volatility\"] = df[\"log_ret\"].rolling(window=5).std()\n"
   ]
  },
  {
   "cell_type": "code",
   "execution_count": null,
   "metadata": {},
   "outputs": [],
   "source": []
  }
 ],
 "metadata": {
  "kernelspec": {
   "display_name": "Finance",
   "language": "python",
   "name": "python3"
  },
  "language_info": {
   "name": "python",
   "version": "3.12.9"
  }
 },
 "nbformat": 4,
 "nbformat_minor": 2
}
