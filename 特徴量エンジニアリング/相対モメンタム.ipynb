{
 "cells": [
  {
   "cell_type": "markdown",
   "metadata": {},
   "source": [
    "### 相対モメンタムの数学的定義\n",
    "\n",
    "Momentum は株価などの時系列データにおける変化量や方向と大きさを表す指標。数学的には価格の相対的な変化率または差分として定義される\n",
    "\n",
    "#### 数学的定義（株価$P_t$を用いる）\n",
    "相対モメンタム(変化率としての定義)\n",
    "$$\n",
    "\\text{Momentum}_k(t) = \\frac{P_t - P_{t-k}}{P_{t-k}} = \\frac{\\Delta P}{P_{t-k}}\n",
    "$$\n",
    "$ P_t :時刻tの株価（例、今月の終値）$  \n",
    "\n",
    "$ P_{t-k} : kヶ月前の株価 $\n",
    "\n",
    "\n"
   ]
  },
  {
   "cell_type": "code",
   "execution_count": null,
   "metadata": {},
   "outputs": [],
   "source": [
    "# 一般的なpythonでの実行\n",
    "# pythonでは　.pct_change(periods=k)　で簡単にもとまる\n",
    "import pandas as pd\n",
    "df = pd.read_csv(\"/Users/kondousatoshishi/Downloads/金融モデル/data/4063.T_monthly.csv\")\n",
    "df[\"momentum_km\"] = df[\"Close\"].pct_change(periods=k)"
   ]
  },
  {
   "cell_type": "markdown",
   "metadata": {},
   "source": []
  }
 ],
 "metadata": {
  "kernelspec": {
   "display_name": "Finance",
   "language": "python",
   "name": "python3"
  },
  "language_info": {
   "name": "python",
   "version": "3.12.9"
  }
 },
 "nbformat": 4,
 "nbformat_minor": 2
}
